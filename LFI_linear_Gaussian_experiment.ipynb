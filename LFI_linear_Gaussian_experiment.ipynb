{
 "cells": [
  {
   "cell_type": "code",
   "execution_count": 1,
   "metadata": {},
   "outputs": [],
   "source": [
    "import numpy as np\n",
    "import ctypes\n",
    "import sys\n",
    "import os\n",
    "import matplotlib\n",
    "import matplotlib.pyplot as plt\n",
    "import scipy.stats as stats\n",
    "import astropy.io.fits as pf"
   ]
  },
  {
   "cell_type": "code",
   "execution_count": 2,
   "metadata": {},
   "outputs": [],
   "source": [
    "covariance = np.loadtxt(\"input_data/covariance_cosmic_shear_PMEpaper.dat\")\n",
    "precision  = np.linalg.inv(np.matrix(covariance))\n",
    "N_data = len(covariance[:,0])\n",
    "fiducial_dv = np.loadtxt(\"input_data/DES_shear-shear_a1.0_b0.5_data_vector\")[:,1]\n",
    "derivatives = np.loadtxt(\"input_data/derivatives.dat\")\n",
    "Omega_m_fid = 0.3156\n",
    "sigma_8_fid = 0.831\n",
    "w0_fid      = -1.0"
   ]
  },
  {
   "cell_type": "code",
   "execution_count": 3,
   "metadata": {},
   "outputs": [],
   "source": [
    "# linearize model for the data vector\n",
    "def linearized_model(params):\n",
    "    dOm = params[0]-Omega_m_fid\n",
    "    ds8 = params[1]-sigma_8_fid\n",
    "    dw  = params[2]-w0_fid\n",
    "    return fiducial_dv + derivatives[:,0]*dOm + derivatives[:,1]*ds8 + derivatives[:,2]*dw\n",
    "\n",
    "# treat this as a black box with which you\n",
    "# generate your simulated data vectors\n",
    "def simulator(params):\n",
    "    expec = linearized_model(params)\n",
    "    return np.random.multivariate_normal(expec, covariance)"
   ]
  },
  {
   "cell_type": "code",
   "execution_count": null,
   "metadata": {},
   "outputs": [],
   "source": []
  }
 ],
 "metadata": {
  "anaconda-cloud": {
   "environment": null,
   "summary": "trough lenser python notebook",
   "url": "https://anaconda.org/danielgruen/returning_data_vector_to_notebook-py"
  },
  "kernelspec": {
   "display_name": "Python 2",
   "language": "python",
   "name": "python2"
  },
  "language_info": {
   "codemirror_mode": {
    "name": "ipython",
    "version": 3
   },
   "file_extension": ".py",
   "mimetype": "text/x-python",
   "name": "python",
   "nbconvert_exporter": "python",
   "pygments_lexer": "ipython3",
   "version": "3.6.13"
  }
 },
 "nbformat": 4,
 "nbformat_minor": 1
}
