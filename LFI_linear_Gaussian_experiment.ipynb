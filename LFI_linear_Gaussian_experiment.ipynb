{
 "cells": [
  {
   "cell_type": "code",
   "execution_count": 1,
   "metadata": {},
   "outputs": [],
   "source": [
    "import numpy as np\n",
    "import matplotlib\n",
    "import matplotlib.pyplot as plt\n",
    "import scipy.stats as stats\n",
    "import sbi"
   ]
  },
  {
   "cell_type": "code",
   "execution_count": 2,
   "metadata": {},
   "outputs": [],
   "source": [
    "covariance = np.loadtxt(\"input_data/covariance_cosmic_shear_PMEpaper.dat\")\n",
    "precision  = np.linalg.inv(np.matrix(covariance))\n",
    "N_data = len(covariance[:,0])\n",
    "fiducial_dv = np.loadtxt(\"input_data/DES_shear-shear_a1.0_b0.5_data_vector\")[:,1]\n",
    "derivatives = np.loadtxt(\"input_data/derivatives.dat\")\n",
    "Omega_m_fid = 0.3156\n",
    "sigma_8_fid = 0.831\n",
    "w0_fid      = -1.0"
   ]
  },
  {
   "cell_type": "code",
   "execution_count": 3,
   "metadata": {},
   "outputs": [
    {
     "name": "stdout",
     "output_type": "stream",
     "text": [
      "[[317652.9079044  213644.33873155 -13907.62322598]\n",
      " [213644.33873155 149360.77671246  -9873.38289421]\n",
      " [-13907.62322598  -9873.38289421    761.92298511]]\n",
      "[[ 8.59540562e-05 -1.34138903e-04 -1.69292859e-04]\n",
      " [-1.34138903e-04  2.56028599e-04  8.69267734e-04]\n",
      " [-1.69292859e-04  8.69267734e-04  9.48672244e-03]]\n",
      "[0.00927114 0.01600089 0.09739981]\n"
     ]
    }
   ],
   "source": [
    "Fisher_matrix = np.zeros((3,3))\n",
    "for i in range(0,3):\n",
    "    for j in range(0,3):\n",
    "       Fisher_matrix[i,j] = np.linalg.multi_dot([derivatives[:,j], precision, derivatives[:,i]])\n",
    "\n",
    "print(Fisher_matrix)\n",
    "print(np.linalg.inv(np.matrix(Fisher_matrix)))\n",
    "\n",
    "np.savetxt(\"Fisher_matrix.dat\", Fisher_matrix)\n",
    "\n",
    "print(np.sqrt(np.diag(np.linalg.inv(np.matrix(Fisher_matrix)))))"
   ]
  },
  {
   "cell_type": "code",
   "execution_count": 4,
   "metadata": {},
   "outputs": [],
   "source": [
    "# linearize model for the data vector\n",
    "def linearized_model(params):\n",
    "    dOm = params[0]-Omega_m_fid\n",
    "    ds8 = params[1]-sigma_8_fid\n",
    "    dw  = params[2]-w0_fid\n",
    "    return fiducial_dv + derivatives[:,0]*dOm + derivatives[:,1]*ds8 + derivatives[:,2]*dw\n",
    "\n",
    "# treat this as a black box with which you\n",
    "# generate your simulated data vectors\n",
    "def simulator(params, seed):\n",
    "    expec = linearized_model(params)\n",
    "    np.random.seed(seed)\n",
    "    return np.random.multivariate_normal(expec, covariance)"
   ]
  },
  {
   "cell_type": "code",
   "execution_count": null,
   "metadata": {},
   "outputs": [],
   "source": []
  },
  {
   "cell_type": "code",
   "execution_count": null,
   "metadata": {},
   "outputs": [],
   "source": []
  }
 ],
 "metadata": {
  "anaconda-cloud": {
   "environment": null,
   "summary": "trough lenser python notebook",
   "url": "https://anaconda.org/danielgruen/returning_data_vector_to_notebook-py"
  },
  "kernelspec": {
   "display_name": "Python 2",
   "language": "python",
   "name": "python2"
  },
  "language_info": {
   "codemirror_mode": {
    "name": "ipython",
    "version": 3
   },
   "file_extension": ".py",
   "mimetype": "text/x-python",
   "name": "python",
   "nbconvert_exporter": "python",
   "pygments_lexer": "ipython3",
   "version": "3.6.13"
  }
 },
 "nbformat": 4,
 "nbformat_minor": 1
}
